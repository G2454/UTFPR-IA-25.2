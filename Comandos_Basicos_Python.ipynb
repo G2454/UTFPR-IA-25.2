{
  "nbformat": 4,
  "nbformat_minor": 0,
  "metadata": {
    "colab": {
      "provenance": [],
      "authorship_tag": "ABX9TyP2coywgvZiFFFJ/Lz8WE+J",
      "include_colab_link": true
    },
    "kernelspec": {
      "name": "python3",
      "display_name": "Python 3"
    },
    "language_info": {
      "name": "python"
    }
  },
  "cells": [
    {
      "cell_type": "markdown",
      "metadata": {
        "id": "view-in-github",
        "colab_type": "text"
      },
      "source": [
        "<a href=\"https://colab.research.google.com/github/G2454/UTFPR-IA-25.2/blob/main/Comandos_Basicos_Python.ipynb\" target=\"_parent\"><img src=\"https://colab.research.google.com/assets/colab-badge.svg\" alt=\"Open In Colab\"/></a>"
      ]
    },
    {
      "cell_type": "markdown",
      "source": [
        "## Conceitos Básicos em Python"
      ],
      "metadata": {
        "id": "-UgL2Dx__0X0"
      }
    },
    {
      "cell_type": "markdown",
      "source": [
        "### Variáveis, entrada e saída"
      ],
      "metadata": {
        "id": "_N2e-Moz_8m0"
      }
    },
    {
      "cell_type": "code",
      "source": [
        "x = 1\n",
        "print(x)\n",
        "y = 3.4\n",
        "print(y)\n",
        "z = True\n",
        "print(z)\n",
        "message = \"Python 3\"\n",
        "print(message)"
      ],
      "metadata": {
        "colab": {
          "base_uri": "https://localhost:8080/"
        },
        "id": "l_5DkwnLAAv0",
        "outputId": "0bd1885d-1205-4504-dbd6-788c0918b6ca"
      },
      "execution_count": 3,
      "outputs": [
        {
          "output_type": "stream",
          "name": "stdout",
          "text": [
            "1\n",
            "3.4\n",
            "True\n",
            "Python 3\n"
          ]
        }
      ]
    },
    {
      "cell_type": "code",
      "source": [
        "print(type(x))\n",
        "print(type(y))\n",
        "print(type(z))\n",
        "print(type(message))"
      ],
      "metadata": {
        "colab": {
          "base_uri": "https://localhost:8080/"
        },
        "id": "QRuACSjkA7OA",
        "outputId": "7c9f21ce-5c3c-4029-8f1a-f6f47ff7d4eb"
      },
      "execution_count": 4,
      "outputs": [
        {
          "output_type": "stream",
          "name": "stdout",
          "text": [
            "<class 'int'>\n",
            "<class 'float'>\n",
            "<class 'bool'>\n",
            "<class 'str'>\n"
          ]
        }
      ]
    },
    {
      "cell_type": "code",
      "source": [
        "# Input\n",
        "var1 = input()"
      ],
      "metadata": {
        "colab": {
          "base_uri": "https://localhost:8080/"
        },
        "id": "RAD0XKoPBVYE",
        "outputId": "8a36e1d7-7b94-42b6-c9bf-e9c17877e39f"
      },
      "execution_count": 5,
      "outputs": [
        {
          "name": "stdout",
          "output_type": "stream",
          "text": [
            "Teste\n"
          ]
        }
      ]
    },
    {
      "cell_type": "code",
      "source": [
        "print(var1)\n",
        "type(var1)"
      ],
      "metadata": {
        "colab": {
          "base_uri": "https://localhost:8080/"
        },
        "id": "Lc5JmFrOBeZF",
        "outputId": "49724e0e-c7b5-4909-e305-0193c5058f98"
      },
      "execution_count": 8,
      "outputs": [
        {
          "output_type": "stream",
          "name": "stdout",
          "text": [
            "Teste\n"
          ]
        },
        {
          "output_type": "execute_result",
          "data": {
            "text/plain": [
              "str"
            ]
          },
          "metadata": {},
          "execution_count": 8
        }
      ]
    },
    {
      "cell_type": "code",
      "source": [
        "# Operação com Strings\n",
        "x1 = input()\n",
        "x2 = input()\n",
        "print(x1+x2)\n",
        "print(f'O tipo de x1 é {type(x1)}')"
      ],
      "metadata": {
        "colab": {
          "base_uri": "https://localhost:8080/"
        },
        "id": "IfgW0oF0Ctst",
        "outputId": "b2956b2f-5c99-438a-e676-874a3038fc50"
      },
      "execution_count": 13,
      "outputs": [
        {
          "output_type": "stream",
          "name": "stdout",
          "text": [
            "5\n",
            "13\n",
            "513\n",
            "O tipo de x1 é <class 'str'>\n"
          ]
        }
      ]
    },
    {
      "cell_type": "code",
      "source": [
        "# Operação com Int\n",
        "x1 = int(input())\n",
        "x2 = int(input())\n",
        "print(x1+x2)\n",
        "# Impressão por f string\n",
        "print(f'O tipo de x1 é igual a {type(x1)}')\n",
        "print(f'x1: {x1} e x2: {x2}')"
      ],
      "metadata": {
        "colab": {
          "base_uri": "https://localhost:8080/"
        },
        "id": "yKBIUzstDU9n",
        "outputId": "c94ff2b3-6dfd-4b24-c3ba-c62972f1de5d"
      },
      "execution_count": 16,
      "outputs": [
        {
          "output_type": "stream",
          "name": "stdout",
          "text": [
            "4\n",
            "5\n",
            "9\n",
            "O tipo de x1 é igual a <class 'int'>\n",
            "x1: 4 e x2: 5\n"
          ]
        }
      ]
    },
    {
      "cell_type": "code",
      "source": [
        "# Alternativa para display dos valores\n",
        "print('O valor de x1 é: %d e x2: %d'%(x1,x2))"
      ],
      "metadata": {
        "colab": {
          "base_uri": "https://localhost:8080/"
        },
        "id": "fymPrXbDDyqe",
        "outputId": "2244e686-379f-4fac-9541-d9d32a0e2b45"
      },
      "execution_count": 15,
      "outputs": [
        {
          "output_type": "stream",
          "name": "stdout",
          "text": [
            "O valor de x1 é: 2 e x2: 3\n"
          ]
        }
      ]
    },
    {
      "cell_type": "markdown",
      "source": [
        "## Estruturas de decisão\n",
        "\n",
        "\n"
      ],
      "metadata": {
        "id": "jF3dCH98Esx4"
      }
    },
    {
      "cell_type": "code",
      "source": [
        "mediaFinal = float(input())\n",
        "\n",
        "if mediaFinal >= 7.0:\n",
        "  print('Aprovado')\n",
        "elif mediaFinal <= 7.0 and mediaFinal>=5.0:\n",
        "  print('Recuperação')\n",
        "else:\n",
        "  print('Reprovado')"
      ],
      "metadata": {
        "colab": {
          "base_uri": "https://localhost:8080/"
        },
        "id": "LYmB67DQExVG",
        "outputId": "a339822c-e6ad-4786-ae7d-ac32b9f54bce"
      },
      "execution_count": 22,
      "outputs": [
        {
          "output_type": "stream",
          "name": "stdout",
          "text": [
            "6\n",
            "Recuperação\n"
          ]
        }
      ]
    },
    {
      "cell_type": "markdown",
      "source": [
        "## Estruturas de repetição\n"
      ],
      "metadata": {
        "id": "4FDB31QjGoO_"
      }
    },
    {
      "cell_type": "code",
      "source": [
        "cont = 1\n",
        "while cont <=5:\n",
        "  print(cont)\n",
        "  cont +=1"
      ],
      "metadata": {
        "colab": {
          "base_uri": "https://localhost:8080/"
        },
        "id": "1SKcZoODGryV",
        "outputId": "af25aabf-cb4c-4d5c-bb56-4dd0fc0508f9"
      },
      "execution_count": 23,
      "outputs": [
        {
          "output_type": "stream",
          "name": "stdout",
          "text": [
            "1\n",
            "2\n",
            "3\n",
            "4\n",
            "5\n"
          ]
        }
      ]
    },
    {
      "cell_type": "code",
      "source": [
        "#Python não pega o limite superior\n",
        "for i in range(1,10):\n",
        "  print(i)"
      ],
      "metadata": {
        "colab": {
          "base_uri": "https://localhost:8080/"
        },
        "id": "IgJf6FfkG9qN",
        "outputId": "8e7ab628-2a91-4ab7-b3a2-8af862a84d6b"
      },
      "execution_count": 24,
      "outputs": [
        {
          "output_type": "stream",
          "name": "stdout",
          "text": [
            "1\n",
            "2\n",
            "3\n",
            "4\n",
            "5\n",
            "6\n",
            "7\n",
            "8\n",
            "9\n"
          ]
        }
      ]
    },
    {
      "cell_type": "code",
      "source": [
        "# Passo\n",
        "for i in range(1,20,5):\n",
        "  print(i)"
      ],
      "metadata": {
        "colab": {
          "base_uri": "https://localhost:8080/"
        },
        "id": "QnsYlDy4HctG",
        "outputId": "2b7fb598-d310-4b75-9ced-5ff5156fdbf1"
      },
      "execution_count": 25,
      "outputs": [
        {
          "output_type": "stream",
          "name": "stdout",
          "text": [
            "1\n",
            "6\n",
            "11\n",
            "16\n"
          ]
        }
      ]
    },
    {
      "cell_type": "markdown",
      "source": [
        "## Funções\n"
      ],
      "metadata": {
        "id": "vJzVfklkHpLX"
      }
    },
    {
      "cell_type": "code",
      "source": [
        "def Soma(v1,v2):\n",
        "  return(v1+v2)\n",
        "\n",
        "def Soma2(v1=10, v2=15):\n",
        "  return(v1+v2)\n",
        "\n",
        "def dobro(v1, v2):\n",
        "  x = 2*v1\n",
        "  y = 2*v2\n",
        "  return x,y"
      ],
      "metadata": {
        "id": "EsNxBNdaHs_1"
      },
      "execution_count": 42,
      "outputs": []
    },
    {
      "cell_type": "code",
      "source": [
        "print(Soma(1,45))\n",
        "print(Soma2())\n",
        "print(dobro(2,3))"
      ],
      "metadata": {
        "colab": {
          "base_uri": "https://localhost:8080/"
        },
        "id": "sjGuZL0xHzzu",
        "outputId": "23fc3452-2a70-49e9-f254-ae7bf03a30a2"
      },
      "execution_count": 43,
      "outputs": [
        {
          "output_type": "stream",
          "name": "stdout",
          "text": [
            "46\n",
            "25\n",
            "(4, 6)\n"
          ]
        }
      ]
    },
    {
      "cell_type": "markdown",
      "source": [
        "## Listas"
      ],
      "metadata": {
        "id": "xHLHPF2hyvn-"
      }
    },
    {
      "cell_type": "code",
      "source": [
        "lista = []\n",
        "print(type(lista))\n",
        "\n",
        "lista2 = list()\n",
        "print(type(lista2))\n",
        "\n",
        "lista3 = [1,2,3,4,5]\n",
        "print(lista3)\n",
        "\n",
        "lista4 = [1,2,3,\"Carro\", [1,2,3,4]]\n",
        "print(lista4)\n",
        "\n",
        "lista5 = (list(range(10,100,10)))\n",
        "print(lista5)\n"
      ],
      "metadata": {
        "colab": {
          "base_uri": "https://localhost:8080/"
        },
        "id": "wZAhd0ocyyW9",
        "outputId": "2cef3fd8-0d62-46b6-c2d8-f35a63225780"
      },
      "execution_count": 6,
      "outputs": [
        {
          "output_type": "stream",
          "name": "stdout",
          "text": [
            "<class 'list'>\n",
            "<class 'list'>\n",
            "[1, 2, 3, 4, 5]\n",
            "[1, 2, 3, 'Carro', [1, 2, 3, 4]]\n",
            "[10, 20, 30, 40, 50, 60, 70, 80, 90]\n"
          ]
        }
      ]
    },
    {
      "cell_type": "markdown",
      "source": [
        "#Slice em lista"
      ],
      "metadata": {
        "id": "N5jwN3U1z4MU"
      }
    },
    {
      "cell_type": "code",
      "source": [
        "lista6 = list(range(10,110,10))\n",
        "for i in lista6:\n",
        "  print(i)"
      ],
      "metadata": {
        "colab": {
          "base_uri": "https://localhost:8080/"
        },
        "id": "hoI1pCyYzhF-",
        "outputId": "ea2fd904-7383-42fe-84a6-29d06648b900"
      },
      "execution_count": 7,
      "outputs": [
        {
          "output_type": "stream",
          "name": "stdout",
          "text": [
            "10\n",
            "20\n",
            "30\n",
            "40\n",
            "50\n",
            "60\n",
            "70\n",
            "80\n",
            "90\n",
            "100\n"
          ]
        }
      ]
    },
    {
      "cell_type": "code",
      "source": [
        "#Slice\n",
        "print(lista6[1:4])\n",
        "print(lista6[:])\n",
        "print(lista6[:2])\n",
        "print(lista6[1])\n",
        "print(lista6[-1])"
      ],
      "metadata": {
        "colab": {
          "base_uri": "https://localhost:8080/"
        },
        "id": "Mg-PgO320Rgt",
        "outputId": "2cf9e79f-eb32-4970-c66d-82d87846d8f3"
      },
      "execution_count": 15,
      "outputs": [
        {
          "output_type": "stream",
          "name": "stdout",
          "text": [
            "[20, 30, 40]\n",
            "[10, 20, 30, 40, 50, 60, 70, 80, 90, 100]\n",
            "[10, 20]\n",
            "20\n",
            "100\n"
          ]
        }
      ]
    },
    {
      "cell_type": "markdown",
      "source": [
        "##Manipulação de Lista"
      ],
      "metadata": {
        "id": "zvFtfcH81Mh2"
      }
    },
    {
      "cell_type": "code",
      "source": [
        "#Inserir no final\n",
        "lista = []\n",
        "lista.append(1)\n",
        "lista.append(2)\n",
        "lista.append(3)\n",
        "print(lista)\n",
        "\n",
        "#Inserir no indice desejado\n",
        "lista.insert(1,15)\n",
        "print(lista)\n",
        "\n",
        "#Remoção\n",
        "lista.pop()\n",
        "print(lista)\n",
        "lista.pop(0)\n",
        "print(lista)\n",
        "lista.remove(15)\n",
        "print(lista)\n",
        "\n",
        "#Inversão\n",
        "lista2 = list(range(1,10,1))\n",
        "print(lista2)\n",
        "lista2.reverse()\n",
        "print(lista2)\n",
        "\n",
        "#Adição de mais caracteres\n",
        "lista2.extend([100,200,300])\n",
        "print(lista2)\n",
        "\n",
        "#Criar cópias independentes\n",
        "lista100 = lista2.copy()\n"
      ],
      "metadata": {
        "colab": {
          "base_uri": "https://localhost:8080/"
        },
        "id": "cmQCEFk51RIV",
        "outputId": "2b45e270-099c-436f-e279-1e65c789f79b"
      },
      "execution_count": 24,
      "outputs": [
        {
          "output_type": "stream",
          "name": "stdout",
          "text": [
            "[1, 2, 3]\n",
            "[1, 15, 2, 3]\n",
            "[1, 15, 2]\n",
            "[15, 2]\n",
            "[2]\n",
            "[1, 2, 3, 4, 5, 6, 7, 8, 9]\n",
            "[9, 8, 7, 6, 5, 4, 3, 2, 1]\n",
            "[9, 8, 7, 6, 5, 4, 3, 2, 1, 100, 200, 300]\n"
          ]
        }
      ]
    },
    {
      "cell_type": "code",
      "source": [
        "lista = []\n",
        "#[i**2 for i in range(0,10)]\n",
        "for i in range(0,10):\n",
        "  lista.append(i**2)\n",
        "print(lista)"
      ],
      "metadata": {
        "colab": {
          "base_uri": "https://localhost:8080/"
        },
        "id": "biKiV7xWqN51",
        "outputId": "a5d60945-d9df-43c0-d917-5f70c0c4c0a0"
      },
      "execution_count": 1,
      "outputs": [
        {
          "output_type": "stream",
          "name": "stdout",
          "text": [
            "[0, 1, 4, 9, 16, 25, 36, 49, 64, 81]\n"
          ]
        }
      ]
    },
    {
      "cell_type": "markdown",
      "source": [
        "##Dicionário\n",
        "\n",
        "* Estrutura Chave/Valor\n",
        "* Notas: {Nome:valor da Média}\n",
        "* Notas{Joao:7.0}"
      ],
      "metadata": {
        "id": "i2POixNDs9T1"
      }
    },
    {
      "cell_type": "code",
      "source": [
        "# Dicionário vazio\n",
        "#Notas = dict()\n",
        "Notas = {}\n",
        "type(Notas)\n",
        "\n",
        "Notas = {\"João\":7.0, \"Maria\":8.5, \"Julia\": 10.0, \"Pedro\": 9.0}\n",
        "print(Notas)\n",
        "\n",
        "Nomes = list(Notas.keys())\n",
        "Nomes\n",
        "\n",
        "Values = list(Notas.values())\n",
        "Values\n",
        "\n",
        "for i, j in Notas.items():\n",
        "  print(i, j)\n",
        "\n",
        "print(\"João\" in Notas)\n",
        "\n",
        "Notas.get('Maria', \"Chave não foi encontrada!\")\n",
        "Notas.get('Cleber', \"Chave não foi encontrada!\")\n",
        "\n",
        "#Inserção\n",
        "Notas['Jose'] = 8.0\n",
        "Notas\n",
        "\n",
        "#Remoção\n",
        "#Notas.pop('chave')\n",
        "del Notas['Jose']\n",
        "Notas\n",
        "\n"
      ],
      "metadata": {
        "colab": {
          "base_uri": "https://localhost:8080/"
        },
        "id": "IVh9OT9utDSC",
        "outputId": "7b787b94-c12a-4879-e5fc-02a3936da81a"
      },
      "execution_count": 15,
      "outputs": [
        {
          "output_type": "stream",
          "name": "stdout",
          "text": [
            "{'João': 7.0, 'Maria': 8.5, 'Julia': 10.0, 'Pedro': 9.0}\n",
            "João 7.0\n",
            "Maria 8.5\n",
            "Julia 10.0\n",
            "Pedro 9.0\n",
            "True\n"
          ]
        },
        {
          "output_type": "execute_result",
          "data": {
            "text/plain": [
              "{'João': 7.0, 'Maria': 8.5, 'Julia': 10.0, 'Pedro': 9.0, 'Jose': 8.0}"
            ]
          },
          "metadata": {},
          "execution_count": 15
        }
      ]
    }
  ]
}