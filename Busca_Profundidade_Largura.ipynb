{
  "nbformat": 4,
  "nbformat_minor": 0,
  "metadata": {
    "colab": {
      "provenance": [],
      "authorship_tag": "ABX9TyOxbLwtFaq2tDaVSmcm1I8m",
      "include_colab_link": true
    },
    "kernelspec": {
      "name": "python3",
      "display_name": "Python 3"
    },
    "language_info": {
      "name": "python"
    }
  },
  "cells": [
    {
      "cell_type": "markdown",
      "metadata": {
        "id": "view-in-github",
        "colab_type": "text"
      },
      "source": [
        "<a href=\"https://colab.research.google.com/github/G2454/UTFPR-IA-25.2/blob/main/Busca_Profundidade_Largura.ipynb\" target=\"_parent\"><img src=\"https://colab.research.google.com/assets/colab-badge.svg\" alt=\"Open In Colab\"/></a>"
      ]
    },
    {
      "cell_type": "code",
      "execution_count": 4,
      "metadata": {
        "id": "tL0WOz-XkWcW"
      },
      "outputs": [],
      "source": [
        "#Contrução manual do dicionário\n",
        "\n",
        "def criaListaAdj():\n",
        "  listaAdj = {\n",
        "      'Arad': {'Sibiu': 140, 'Zerind': 75, 'Timisoara': 118},\n",
        "      'Zerind': {'Arad': 75, 'Oradea': 71},\n",
        "      'Oradea': {'Zerind': 71, 'Sibiu': 151},\n",
        "      'Sibiu': {'Arad': 140, 'Oradea': 151, 'Fagaras': 99, 'Rimnicu': 80},\n",
        "      'Timisoara': {'Arad': 118, 'Lugoj': 111},\n",
        "      'Lugoj': {'Timisoara': 111, 'Mehadia': 70},\n",
        "      'Mehadia': {'Lugoj': 70, 'Dobreta': 75},\n",
        "      'Dobreta': {'Mehadia': 75, 'Craiova': 120},\n",
        "      'Craiova': {'Dobreta': 120, 'Rimnicu': 146, 'Pitesti': 138},\n",
        "      'Rimnicu': {'Sibiu': 80, 'Craiova': 146, 'Pitesti': 97},\n",
        "      'Fagaras': {'Sibiu': 99, 'Bucharest': 211},\n",
        "      'Pitesti': {'Rimnicu': 97, 'Craiova': 138, 'Bucharest': 101},\n",
        "      'Bucharest': {'Fagaras': 211, 'Pitesti': 101, 'Giurgiu': 90, 'Urziceni': 85},\n",
        "      'Giurgiu': {'Bucharest': 90},\n",
        "      'Urziceni': {'Bucharest': 85, 'Vaslui': 142, 'Hirsova': 98},\n",
        "      'Hirsova': {'Urziceni': 98, 'Eforie': 86},\n",
        "      'Eforie': {'Hirsova': 86},\n",
        "      'Vaslui': {'Iasi': 92, 'Urziceni': 142},\n",
        "      'Iasi': {'Vaslui': 92, 'Neamt': 87},\n",
        "      'Neamt': {'Iasi': 87}\n",
        "  }\n",
        "  return listaAdj"
      ]
    },
    {
      "cell_type": "code",
      "source": [
        "cidades = criaListaAdj()"
      ],
      "metadata": {
        "id": "K2FdqZs3t_gO"
      },
      "execution_count": 5,
      "outputs": []
    },
    {
      "cell_type": "code",
      "source": [
        "cidades.keys()"
      ],
      "metadata": {
        "colab": {
          "base_uri": "https://localhost:8080/"
        },
        "id": "n0QHD7ykunYV",
        "outputId": "e2271aaa-5f25-443c-a9eb-3a5034c0aa33"
      },
      "execution_count": 6,
      "outputs": [
        {
          "output_type": "execute_result",
          "data": {
            "text/plain": [
              "dict_keys(['Arad', 'Zerind', 'Oradea', 'Sibiu', 'Timisoara', 'Lugoj', 'Mehadia', 'Dobreta', 'Craiova', 'Rimnicu', 'Fagaras', 'Pitesti', 'Bucharest', 'Giurgiu', 'Urziceni', 'Hirsova', 'Eforie', 'Vaslui', 'Iasi', 'Neamt'])"
            ]
          },
          "metadata": {},
          "execution_count": 6
        }
      ]
    },
    {
      "cell_type": "code",
      "source": [
        "cidades['Arad'].keys()"
      ],
      "metadata": {
        "colab": {
          "base_uri": "https://localhost:8080/"
        },
        "id": "RN5ucdCfvHQV",
        "outputId": "291702f9-79e7-4008-e9a9-8b34cf627d25"
      },
      "execution_count": null,
      "outputs": [
        {
          "output_type": "execute_result",
          "data": {
            "text/plain": [
              "dict_keys(['Sibiu', 'Zerind', 'Timisoara'])"
            ]
          },
          "metadata": {},
          "execution_count": 37
        }
      ]
    },
    {
      "cell_type": "code",
      "source": [
        "lista = list(cidades['Arad'].keys())"
      ],
      "metadata": {
        "id": "nSYx3XM_xLAb"
      },
      "execution_count": null,
      "outputs": []
    },
    {
      "cell_type": "code",
      "source": [
        "lista"
      ],
      "metadata": {
        "colab": {
          "base_uri": "https://localhost:8080/"
        },
        "id": "QS53BAk-yMSe",
        "outputId": "1a1235bb-bba9-478b-d166-7632bfb15b12"
      },
      "execution_count": null,
      "outputs": [
        {
          "output_type": "execute_result",
          "data": {
            "text/plain": [
              "['Sibiu', 'Zerind', 'Timisoara']"
            ]
          },
          "metadata": {},
          "execution_count": 40
        }
      ]
    },
    {
      "cell_type": "code",
      "source": [
        "#Função Busca em Profundidade\n",
        "def dfs(listaAdj, inicio, fim):\n",
        "  # Cria as listas fronteiras e visitados\n",
        "  fronteira = [] #Pilha\n",
        "  visitados = []\n",
        "\n",
        "  # Adiciona a primeira cidade na fronteira\n",
        "  fronteira.append(inicio)\n",
        "\n",
        "  # Enquanto existir cidades na fronteira\n",
        "  while fronteira:\n",
        "\n",
        "    # Pega a cidade que foi inserida por último (Estrutura pilha)\n",
        "    # O topo da pilha será considerado como o final da lista\n",
        "    # Percurso prioriza o caminho pela profundidade do nó\n",
        "    s = fronteira.pop()\n",
        "\n",
        "    # Inclue a cidade na lista de visitados\n",
        "    visitados.append(s)\n",
        "\n",
        "    # Verifica se a cidade destino\n",
        "\n",
        "    if s == fim:\n",
        "      break\n",
        "\n",
        "    # Inclue as cidades vizinhas na fronteira\n",
        "    for vizinho in listaAdj[s].keys():\n",
        "      if vizinho not in visitados:\n",
        "        fronteira.append(vizinho)\n",
        "\n",
        "  return visitados"
      ],
      "metadata": {
        "id": "OjYIFZobpZ8A"
      },
      "execution_count": 9,
      "outputs": []
    },
    {
      "cell_type": "code",
      "source": [
        "# Teste da busca em profundidade\n",
        "\n",
        "cidades = criaListaAdj()\n",
        "\n",
        "percurso = dfs(cidades, 'Arad', 'Bucharest')\n",
        "\n",
        "print(percurso)"
      ],
      "metadata": {
        "colab": {
          "base_uri": "https://localhost:8080/"
        },
        "id": "VVu5HXMy737n",
        "outputId": "3bba3cef-a157-41b2-aea3-c58a3e41f05d"
      },
      "execution_count": 10,
      "outputs": [
        {
          "output_type": "stream",
          "name": "stdout",
          "text": [
            "['Arad', 'Timisoara', 'Lugoj', 'Mehadia', 'Dobreta', 'Craiova', 'Pitesti', 'Bucharest']\n"
          ]
        }
      ]
    }
  ]
}